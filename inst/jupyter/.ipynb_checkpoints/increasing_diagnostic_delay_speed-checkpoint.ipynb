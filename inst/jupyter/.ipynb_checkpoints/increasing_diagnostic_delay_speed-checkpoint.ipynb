{
 "cells": [
  {
   "cell_type": "code",
   "execution_count": 1,
   "id": "marked-cloud",
   "metadata": {},
   "outputs": [
    {
     "data": {
      "text/plain": [
       "'\\nExample for diagnostic delay, graphs which will be created locally after\\ndata is sent to us.\\n'"
      ]
     },
     "execution_count": 1,
     "metadata": {},
     "output_type": "execute_result"
    }
   ],
   "source": [
    "'''\n",
    "Example for diagnostic delay, graphs which will be created locally after\n",
    "data is sent to us.\n",
    "'''"
   ]
  },
  {
   "cell_type": "code",
   "execution_count": 2,
   "id": "split-playback",
   "metadata": {},
   "outputs": [],
   "source": [
    "import pandas.io.sql\n",
    "import pyodbc\n",
    "import pandas as pd\n",
    "import tqdm\n",
    "from collections import defaultdict, Counter\n",
    "import pickle\n",
    "import numpy as np\n",
    "import glob"
   ]
  },
  {
   "cell_type": "code",
   "execution_count": 3,
   "id": "frozen-population",
   "metadata": {},
   "outputs": [],
   "source": [
    "import sys"
   ]
  },
  {
   "cell_type": "code",
   "execution_count": 4,
   "id": "scheduled-graphic",
   "metadata": {},
   "outputs": [],
   "source": [
    "sys.path.append('C:\\\\Users\\\\tonys\\\\Documents\\\\Research\\\\characterizationPaperPackage\\\\inst\\\\py\\\\')"
   ]
  },
  {
   "cell_type": "code",
   "execution_count": 5,
   "id": "specified-spare",
   "metadata": {},
   "outputs": [
    {
     "name": "stdout",
     "output_type": "stream",
     "text": [
      "Imported settings...\n",
      "Current path:  C:\\Users\\tonys\\Documents\\Research\\characterizationPaperPackage\\inst\\py\\\n"
     ]
    }
   ],
   "source": [
    "from settings_sqlserver import *"
   ]
  },
  {
   "cell_type": "code",
   "execution_count": 6,
   "id": "varying-february",
   "metadata": {},
   "outputs": [],
   "source": [
    "# Create the connection\n",
    "conn = pyodbc.connect('DRIVER={ODBC Driver 17 for SQL Server};SERVER='+server+';DATABASE='+db+';UID='+user+';PWD='+ password)"
   ]
  },
  {
   "cell_type": "code",
   "execution_count": 7,
   "id": "sunset-velvet",
   "metadata": {},
   "outputs": [],
   "source": [
    "per_patient_TTD_dict = {}\n",
    "per_patient_TTD_dict[db] = {}\n",
    "\n",
    "phenotypes = pd.read_csv('../csv/phenotype_lookups_final.csv', encoding = 'unicode_escape')\n",
    "final = pd.read_csv('../../output/created_files/' + db + '_common_symptom_tfidf_final.csv')"
   ]
  },
  {
   "cell_type": "code",
   "execution_count": 8,
   "id": "interpreted-conviction",
   "metadata": {},
   "outputs": [],
   "source": [
    "def dd():\n",
    "    return defaultdict(int)\n",
    "\n",
    "concept_id_mapper = defaultdict(dd) # dd is a module-level function\n",
    "\n",
    "with open('../../output/created_files/' + db + '_common_symptoms.pickle', 'rb') as handle:\n",
    "    concept_id_mapper = pickle.load(handle)"
   ]
  },
  {
   "cell_type": "code",
   "execution_count": 9,
   "id": "classified-testing",
   "metadata": {},
   "outputs": [],
   "source": [
    "cohort_files = pd.read_csv('../settings/CohortsToCreateFinal.csv')"
   ]
  },
  {
   "cell_type": "code",
   "execution_count": 10,
   "id": "buried-oasis",
   "metadata": {},
   "outputs": [],
   "source": [
    "with open('../csv/exclude_concepts_all_final.csv', 'r') as handle:\n",
    "    excluded = handle.readlines()"
   ]
  },
  {
   "cell_type": "code",
   "execution_count": 11,
   "id": "roman-atmosphere",
   "metadata": {},
   "outputs": [],
   "source": [
    "summary_fp = '../../output/summaries/' + db + '/'"
   ]
  },
  {
   "cell_type": "code",
   "execution_count": 16,
   "id": "regional-necklace",
   "metadata": {},
   "outputs": [
    {
     "name": "stderr",
     "output_type": "stream",
     "text": [
      "  0%|                                                                                          | 0/114 [00:00<?, ?it/s]\n"
     ]
    }
   ],
   "source": [
    "for summary_file in tqdm.tqdm(glob.glob(summary_fp + '*')):\n",
    "    cohort_file_id = summary_file.split('\\\\')[-1].split('_')[0]\n",
    "    cohort_id = str(cohort_file_id)\n",
    "    \n",
    "    tmp = []\n",
    "\n",
    "    for ele in excluded:\n",
    "        if ele.strip('\\n').split(',')[0] == cohort_id:\n",
    "            tmp = ele.strip('\\n').split(',')\n",
    "\n",
    "    # ccae_df = pd.read_csv(base_fp + cohort_id + '.csv', encoding = 'unicode_escape', sep='|', names=names)\n",
    "\n",
    "    # Let's get remove concepts that are in the definition set\n",
    "    valid_top_N = []\n",
    "    skipped = []\n",
    "\n",
    "    for i, condition_concept_id in enumerate(final.sort_values(by=cohort_id, ascending=False)['condition_concept_id'].values):\n",
    "        if str(condition_concept_id) in tmp[1:]:\n",
    "            skipped.append(i)\n",
    "            continue;\n",
    "        else:\n",
    "            valid_top_N.append(condition_concept_id)\n",
    "        if len(valid_top_N) == 50:\n",
    "            break;\n",
    "    \n",
    "    sql_query_string = 'select person_id, gender_concept_id, condition_concept_id, concept_name, time_to_onset from ' + db + '.results.sexdiff_cohort_ttonset_v5 where cohort_definition_id = ' + str(cohort_file_id);\n",
    "\n",
    "    conds = ', '.join([str(x) for x in valid_top_N])\n",
    "    sql_query_string = sql_query_string + ' and condition_concept_id in (' + conds + ');'\n",
    "    df = pandas.io.sql.read_sql(sql_query_string , conn)\n",
    "    "
   ]
  },
  {
   "cell_type": "code",
   "execution_count": 17,
   "id": "compatible-color",
   "metadata": {},
   "outputs": [],
   "source": [
    "conds = ', '.join([str(x) for x in valid_top_N])\n"
   ]
  },
  {
   "cell_type": "code",
   "execution_count": 18,
   "id": "placed-representative",
   "metadata": {},
   "outputs": [
    {
     "data": {
      "text/plain": [
       "'378253, 194133, 78232, 77670, 141941, 134736, 320128, 432867, 200219, 254761, 314131, 433316, 436096, 312437, 442752, 137548, 4144111, 138525, 437663, 436070, 4150062, 320536, 442077, 375415, 75860, 4282096, 433736, 4193704, 257011, 315078, 81902, 440933, 4223659, 437677, 437827, 25297, 261880, 45768910, 439777, 197381, 196523, 140214, 4170554, 77074, 140821, 4329041, 4169580, 4134121, 4272240, 137275'"
      ]
     },
     "execution_count": 18,
     "metadata": {},
     "output_type": "execute_result"
    }
   ],
   "source": [
    "conds"
   ]
  },
  {
   "cell_type": "code",
   "execution_count": 68,
   "id": "suspended-potter",
   "metadata": {},
   "outputs": [
    {
     "name": "stderr",
     "output_type": "stream",
     "text": [
      "100%|████████████████████████████████████████████████████████████████████████████████| 114/114 [30:22<00:00, 15.99s/it]\n"
     ]
    }
   ],
   "source": [
    "\n",
    "\n",
    "    # Get the subset of the DF with only these top 50 symptoms\n",
    "    subset_df = df[df.condition_concept_id.isin(valid_top_N)]\n",
    "\n",
    "    women_df = subset_df[subset_df.gender_concept_id == 8532]\n",
    "    men_df   = subset_df[subset_df.gender_concept_id == 8507]\n",
    "\n",
    "    first_occur_women = women_df.sort_values(by=['person_id', 'time_to_onset'], ascending=False).drop_duplicates(subset=['person_id'])\n",
    "    first_occur_men = men_df.sort_values(by=['person_id', 'time_to_onset'], ascending=False).drop_duplicates(subset=['person_id'])\n",
    "\n",
    "    TTO_val_MAX_women = np.asarray(list(first_occur_women.time_to_onset.values))\n",
    "    # TTO_val_MEAN_women = []\n",
    "    condition_name_MAX_women = list(first_occur_women.concept_name.values)\n",
    "\n",
    "    TTO_val_MAX_men = np.asarray(list(first_occur_men.time_to_onset.values))\n",
    "    # TTO_val_MEAN_men = []\n",
    "    condition_name_MAX_men = list(first_occur_men.concept_name.values)\n",
    "\n",
    "    # Sorted list takes a lot more space. Let's just store the counted values\n",
    "    # (valid_top_N, TTO_val_MAX_women, TTO_val_MAX_men, condition_name_MAX_women, condition_name_MAX_men)\n",
    "    \n",
    "    per_patient_TTD_dict[db][cohort_id] = (valid_top_N, Counter(TTO_val_MAX_women), Counter(TTO_val_MAX_men), Counter(condition_name_MAX_women), Counter(condition_name_MAX_men))\n",
    "\n",
    "with open('../../output/created_files/' + db + '_per_patient_TTD_.pickle', 'wb') as handle:\n",
    "    pickle.dump(per_patient_TTD_dict[db], handle, protocol=pickle.HIGHEST_PROTOCOL)"
   ]
  },
  {
   "cell_type": "code",
   "execution_count": 72,
   "id": "toxic-applicant",
   "metadata": {},
   "outputs": [],
   "source": [
    "from matplotlib import pyplot as plt\n",
    "%matplotlib inline"
   ]
  },
  {
   "cell_type": "code",
   "execution_count": 53,
   "id": "separate-outline",
   "metadata": {},
   "outputs": [],
   "source": [
    "import sys"
   ]
  },
  {
   "cell_type": "code",
   "execution_count": 54,
   "id": "seeing-motorcycle",
   "metadata": {},
   "outputs": [
    {
     "data": {
      "text/plain": [
       "472"
      ]
     },
     "execution_count": 54,
     "metadata": {},
     "output_type": "execute_result"
    }
   ],
   "source": [
    "# Note the sizes of these various files\n",
    "sys.getsizeof(valid_top_N)"
   ]
  },
  {
   "cell_type": "code",
   "execution_count": 55,
   "id": "occupied-elder",
   "metadata": {},
   "outputs": [
    {
     "data": {
      "text/plain": [
       "244904"
      ]
     },
     "execution_count": 55,
     "metadata": {},
     "output_type": "execute_result"
    }
   ],
   "source": [
    "# Note the sizes of these various files\n",
    "sys.getsizeof(TTO_val_MAX_women)"
   ]
  },
  {
   "cell_type": "code",
   "execution_count": 56,
   "id": "standard-thousand",
   "metadata": {},
   "outputs": [
    {
     "data": {
      "text/plain": [
       "244856"
      ]
     },
     "execution_count": 56,
     "metadata": {},
     "output_type": "execute_result"
    }
   ],
   "source": [
    "# Note the sizes of these various files\n",
    "sys.getsizeof(condition_name_MAX_women)"
   ]
  },
  {
   "cell_type": "code",
   "execution_count": 58,
   "id": "auburn-charm",
   "metadata": {},
   "outputs": [
    {
     "data": {
      "text/plain": [
       "2288"
      ]
     },
     "execution_count": 58,
     "metadata": {},
     "output_type": "execute_result"
    }
   ],
   "source": [
    "# The Counter() version for histograms is enough, and is 100x smaller.\n",
    "sys.getsizeof(Counter(condition_name_MAX_women))"
   ]
  },
  {
   "cell_type": "code",
   "execution_count": 59,
   "id": "certified-label",
   "metadata": {},
   "outputs": [
    {
     "data": {
      "text/plain": [
       "36976"
      ]
     },
     "execution_count": 59,
     "metadata": {},
     "output_type": "execute_result"
    }
   ],
   "source": [
    "# The Counter() version for histograms is enough, and is 10x smaller.\n",
    "sys.getsizeof(Counter(TTO_val_MAX_women))"
   ]
  },
  {
   "cell_type": "code",
   "execution_count": 82,
   "id": "appointed-qatar",
   "metadata": {},
   "outputs": [],
   "source": [
    "counts = [x for x in per_patient_TTD_dict[db]['11111'][1].keys()]\n",
    "vals   = [x for x in per_patient_TTD_dict[db]['11111'][1].values()]"
   ]
  },
  {
   "cell_type": "code",
   "execution_count": 89,
   "id": "pointed-speed",
   "metadata": {},
   "outputs": [
    {
     "data": {
      "text/plain": [
       "4490"
      ]
     },
     "execution_count": 89,
     "metadata": {},
     "output_type": "execute_result"
    }
   ],
   "source": [
    "max(vals)"
   ]
  },
  {
   "cell_type": "code",
   "execution_count": 94,
   "id": "intimate-underground",
   "metadata": {},
   "outputs": [
    {
     "data": {
      "text/plain": [
       "<BarContainer object of 1095 artists>"
      ]
     },
     "execution_count": 94,
     "metadata": {},
     "output_type": "execute_result"
    },
    {
     "data": {
      "image/png": "[encoded data removed]",
      "text/plain": [
       "<Figure size 432x288 with 1 Axes>"
      ]
     },
     "metadata": {
      "needs_background": "light"
     },
     "output_type": "display_data"
    }
   ],
   "source": [
    "plt.bar(counts[1:], vals[1:])"
   ]
  },
  {
   "cell_type": "code",
   "execution_count": null,
   "id": "round-dinner",
   "metadata": {},
   "outputs": [],
   "source": []
  }
 ],
 "metadata": {
  "kernelspec": {
   "display_name": "Python 3",
   "language": "python",
   "name": "python3"
  },
  "language_info": {
   "codemirror_mode": {
    "name": "ipython",
    "version": 3
   },
   "file_extension": ".py",
   "mimetype": "text/x-python",
   "name": "python",
   "nbconvert_exporter": "python",
   "pygments_lexer": "ipython3",
   "version": "3.9.1"
  }
 },
 "nbformat": 4,
 "nbformat_minor": 5
}
