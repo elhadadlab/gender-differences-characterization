{
 "cells": [
  {
   "cell_type": "code",
   "execution_count": 1,
   "id": "collected-distributor",
   "metadata": {},
   "outputs": [
    {
     "data": {
      "text/plain": [
       "'\\nSaves the full CSV locally, as well as creating the png files used for the prevalence-in-population graphs for the paper.\\n'"
      ]
     },
     "execution_count": 1,
     "metadata": {},
     "output_type": "execute_result"
    }
   ],
   "source": [
    "'''\n",
    "Saves the full CSV locally, as well as creating the png files used for the prevalence-in-population graphs for the paper.\n",
    "'''"
   ]
  },
  {
   "cell_type": "code",
   "execution_count": 2,
   "id": "several-pitch",
   "metadata": {},
   "outputs": [],
   "source": [
    "import pandas as pd\n",
    "import tqdm\n",
    "import numpy as np\n",
    "from collections import OrderedDict\n",
    "from collections import defaultdict\n",
    "import pickle\n",
    "import glob\n",
    "from matplotlib import pyplot as plt\n",
    "import matplotlib.patches as mpatches\n",
    "%matplotlib inline\n",
    "\n",
    "import plotly\n",
    "import plotly.graph_objects as go"
   ]
  },
  {
   "cell_type": "code",
   "execution_count": 3,
   "id": "virgin-brazil",
   "metadata": {},
   "outputs": [],
   "source": [
    "import pandas.io.sql\n",
    "import pyodbc\n",
    "import tqdm\n",
    "\n",
    "import pickle\n",
    "import glob"
   ]
  },
  {
   "cell_type": "code",
   "execution_count": 4,
   "id": "floppy-ownership",
   "metadata": {},
   "outputs": [],
   "source": [
    "import sys\n",
    "sys.path.append('C:\\\\Users\\\\tonys\\\\Documents\\\\Research\\\\characterizationPaperPackage\\\\inst\\\\py\\\\')"
   ]
  },
  {
   "cell_type": "code",
   "execution_count": 5,
   "id": "incomplete-vocabulary",
   "metadata": {},
   "outputs": [
    {
     "name": "stdout",
     "output_type": "stream",
     "text": [
      "Imported settings...\n",
      "Current path:  C:\\Users\\tonys\\Documents\\Research\\characterizationPaperPackage\\inst\\py\\\n"
     ]
    }
   ],
   "source": [
    "from settings import *"
   ]
  },
  {
   "cell_type": "code",
   "execution_count": 6,
   "id": "architectural-westminster",
   "metadata": {},
   "outputs": [],
   "source": [
    "# Create the connection\n",
    "conn = pyodbc.connect('DRIVER={ODBC Driver 17 for SQL Server};SERVER='+server+';DATABASE='+db+';UID='+user+';PWD='+ password)"
   ]
  },
  {
   "cell_type": "code",
   "execution_count": 7,
   "id": "under-romantic",
   "metadata": {},
   "outputs": [],
   "source": [
    "sql_query_string = 'select * from ' + db + '.results.pbr_sex_diff_summary'\n",
    "all_conds_df = pandas.io.sql.read_sql(sql_query_string, conn)"
   ]
  },
  {
   "cell_type": "code",
   "execution_count": 8,
   "id": "relative-default",
   "metadata": {},
   "outputs": [
    {
     "data": {
      "text/plain": [
       "5413702"
      ]
     },
     "execution_count": 8,
     "metadata": {},
     "output_type": "execute_result"
    }
   ],
   "source": [
    "sys.getsizeof(all_conds_df)"
   ]
  },
  {
   "cell_type": "code",
   "execution_count": 9,
   "id": "worth-netscape",
   "metadata": {},
   "outputs": [
    {
     "data": {
      "text/html": [
       "<div>\n",
       "<style scoped>\n",
       "    .dataframe tbody tr th:only-of-type {\n",
       "        vertical-align: middle;\n",
       "    }\n",
       "\n",
       "    .dataframe tbody tr th {\n",
       "        vertical-align: top;\n",
       "    }\n",
       "\n",
       "    .dataframe thead th {\n",
       "        text-align: right;\n",
       "    }\n",
       "</style>\n",
       "<table border=\"1\" class=\"dataframe\">\n",
       "  <thead>\n",
       "    <tr style=\"text-align: right;\">\n",
       "      <th></th>\n",
       "      <th>source_name</th>\n",
       "      <th>concept_id</th>\n",
       "      <th>concept_name</th>\n",
       "      <th>num_persons</th>\n",
       "      <th>prev_overall</th>\n",
       "      <th>num_female</th>\n",
       "      <th>prev_female</th>\n",
       "      <th>num_male</th>\n",
       "      <th>prev_male</th>\n",
       "      <th>rr_female</th>\n",
       "      <th>...</th>\n",
       "      <th>avg_age_diff</th>\n",
       "      <th>std_dev_age</th>\n",
       "      <th>std_dev_age_female</th>\n",
       "      <th>std_dev_age_male</th>\n",
       "      <th>min_age</th>\n",
       "      <th>min_age_female</th>\n",
       "      <th>min_age_male</th>\n",
       "      <th>max_age</th>\n",
       "      <th>max_age_female</th>\n",
       "      <th>max_age_male</th>\n",
       "    </tr>\n",
       "  </thead>\n",
       "  <tbody>\n",
       "    <tr>\n",
       "      <th>0</th>\n",
       "      <td>cumc</td>\n",
       "      <td>23034</td>\n",
       "      <td>Neonatal hypoglycemia</td>\n",
       "      <td>9</td>\n",
       "      <td>0.000375</td>\n",
       "      <td>4</td>\n",
       "      <td>0.000285</td>\n",
       "      <td>5</td>\n",
       "      <td>0.000502</td>\n",
       "      <td>0.568907</td>\n",
       "      <td>...</td>\n",
       "      <td>6.800000</td>\n",
       "      <td>10.860223</td>\n",
       "      <td>16.062378</td>\n",
       "      <td>4.086563</td>\n",
       "      <td>1.0</td>\n",
       "      <td>1.0</td>\n",
       "      <td>1.0</td>\n",
       "      <td>35.0</td>\n",
       "      <td>35.0</td>\n",
       "      <td>11.0</td>\n",
       "    </tr>\n",
       "    <tr>\n",
       "      <th>1</th>\n",
       "      <td>cumc</td>\n",
       "      <td>23137</td>\n",
       "      <td>Chlamydial pharyngitis</td>\n",
       "      <td>16</td>\n",
       "      <td>0.000667</td>\n",
       "      <td>5</td>\n",
       "      <td>0.000357</td>\n",
       "      <td>11</td>\n",
       "      <td>0.001104</td>\n",
       "      <td>0.323243</td>\n",
       "      <td>...</td>\n",
       "      <td>-4.690909</td>\n",
       "      <td>7.182154</td>\n",
       "      <td>3.361547</td>\n",
       "      <td>8.080279</td>\n",
       "      <td>19.0</td>\n",
       "      <td>19.0</td>\n",
       "      <td>19.0</td>\n",
       "      <td>45.0</td>\n",
       "      <td>28.0</td>\n",
       "      <td>45.0</td>\n",
       "    </tr>\n",
       "    <tr>\n",
       "      <th>2</th>\n",
       "      <td>cumc</td>\n",
       "      <td>23220</td>\n",
       "      <td>Chronic tonsillitis</td>\n",
       "      <td>3360</td>\n",
       "      <td>0.140047</td>\n",
       "      <td>2056</td>\n",
       "      <td>0.146690</td>\n",
       "      <td>1304</td>\n",
       "      <td>0.130828</td>\n",
       "      <td>1.121236</td>\n",
       "      <td>...</td>\n",
       "      <td>6.702260</td>\n",
       "      <td>18.178245</td>\n",
       "      <td>17.984120</td>\n",
       "      <td>17.727539</td>\n",
       "      <td>1.0</td>\n",
       "      <td>1.0</td>\n",
       "      <td>1.0</td>\n",
       "      <td>95.0</td>\n",
       "      <td>95.0</td>\n",
       "      <td>89.0</td>\n",
       "    </tr>\n",
       "    <tr>\n",
       "      <th>3</th>\n",
       "      <td>cumc</td>\n",
       "      <td>23237</td>\n",
       "      <td>Acute peptic ulcer with hemorrhage AND obstruc...</td>\n",
       "      <td>4</td>\n",
       "      <td>0.000167</td>\n",
       "      <td>2</td>\n",
       "      <td>0.000143</td>\n",
       "      <td>2</td>\n",
       "      <td>0.000201</td>\n",
       "      <td>0.711134</td>\n",
       "      <td>...</td>\n",
       "      <td>33.000000</td>\n",
       "      <td>23.572583</td>\n",
       "      <td>24.041631</td>\n",
       "      <td>0.000000</td>\n",
       "      <td>18.0</td>\n",
       "      <td>34.0</td>\n",
       "      <td>18.0</td>\n",
       "      <td>68.0</td>\n",
       "      <td>68.0</td>\n",
       "      <td>18.0</td>\n",
       "    </tr>\n",
       "    <tr>\n",
       "      <th>4</th>\n",
       "      <td>cumc</td>\n",
       "      <td>23806</td>\n",
       "      <td>Atrophy of salivary gland</td>\n",
       "      <td>33</td>\n",
       "      <td>0.001375</td>\n",
       "      <td>17</td>\n",
       "      <td>0.001213</td>\n",
       "      <td>16</td>\n",
       "      <td>0.001605</td>\n",
       "      <td>0.755580</td>\n",
       "      <td>...</td>\n",
       "      <td>-6.455883</td>\n",
       "      <td>25.330355</td>\n",
       "      <td>23.605520</td>\n",
       "      <td>27.414108</td>\n",
       "      <td>3.0</td>\n",
       "      <td>14.0</td>\n",
       "      <td>3.0</td>\n",
       "      <td>85.0</td>\n",
       "      <td>83.0</td>\n",
       "      <td>85.0</td>\n",
       "    </tr>\n",
       "  </tbody>\n",
       "</table>\n",
       "<p>5 rows × 24 columns</p>\n",
       "</div>"
      ],
      "text/plain": [
       "  source_name  concept_id                                       concept_name  \\\n",
       "0        cumc       23034                              Neonatal hypoglycemia   \n",
       "1        cumc       23137                             Chlamydial pharyngitis   \n",
       "2        cumc       23220                                Chronic tonsillitis   \n",
       "3        cumc       23237  Acute peptic ulcer with hemorrhage AND obstruc...   \n",
       "4        cumc       23806                          Atrophy of salivary gland   \n",
       "\n",
       "   num_persons  prev_overall  num_female  prev_female  num_male  prev_male  \\\n",
       "0            9      0.000375           4     0.000285         5   0.000502   \n",
       "1           16      0.000667           5     0.000357        11   0.001104   \n",
       "2         3360      0.140047        2056     0.146690      1304   0.130828   \n",
       "3            4      0.000167           2     0.000143         2   0.000201   \n",
       "4           33      0.001375          17     0.001213        16   0.001605   \n",
       "\n",
       "   rr_female  ...  avg_age_diff  std_dev_age  std_dev_age_female  \\\n",
       "0   0.568907  ...      6.800000    10.860223           16.062378   \n",
       "1   0.323243  ...     -4.690909     7.182154            3.361547   \n",
       "2   1.121236  ...      6.702260    18.178245           17.984120   \n",
       "3   0.711134  ...     33.000000    23.572583           24.041631   \n",
       "4   0.755580  ...     -6.455883    25.330355           23.605520   \n",
       "\n",
       "   std_dev_age_male  min_age  min_age_female  min_age_male  max_age  \\\n",
       "0          4.086563      1.0             1.0           1.0     35.0   \n",
       "1          8.080279     19.0            19.0          19.0     45.0   \n",
       "2         17.727539      1.0             1.0           1.0     95.0   \n",
       "3          0.000000     18.0            34.0          18.0     68.0   \n",
       "4         27.414108      3.0            14.0           3.0     85.0   \n",
       "\n",
       "   max_age_female  max_age_male  \n",
       "0            35.0          11.0  \n",
       "1            28.0          45.0  \n",
       "2            95.0          89.0  \n",
       "3            68.0          18.0  \n",
       "4            83.0          85.0  \n",
       "\n",
       "[5 rows x 24 columns]"
      ]
     },
     "execution_count": 9,
     "metadata": {},
     "output_type": "execute_result"
    }
   ],
   "source": [
    "all_conds_df.head()"
   ]
  },
  {
   "cell_type": "code",
   "execution_count": 10,
   "id": "communist-sudan",
   "metadata": {},
   "outputs": [],
   "source": [
    "all_conds_df.to_csv('../../output/created_files/' + db + '_pbr_sex_diff_summary.csv', index = False)"
   ]
  },
  {
   "cell_type": "code",
   "execution_count": 11,
   "id": "dominican-usage",
   "metadata": {},
   "outputs": [],
   "source": [
    "# New criteria\n",
    "DQD = pd.read_csv('../csv/OMOP_dqd.csv')\n",
    "\n",
    "# Minumum number of humans\n",
    "num_persons = all_conds_df['num_persons'] >= 50\n",
    "\n",
    "# Remove OHDSI's DQD list of sex-specific\n",
    "not_sex_specific = ~all_conds_df['concept_id'].isin(DQD[~DQD['plausibleGender'].isnull()]['conceptId'])\n",
    "\n",
    "# Limit diseases that are super prevalent in only females\n",
    "not_female_only = all_conds_df['pct_female'] < 0.99\n",
    "not_male_only   = all_conds_df['pct_female'] > 0.01\n",
    "\n",
    "# Remove conditions that have male/female in their names\n",
    "sex_specific_name = []\n",
    "for cond in all_conds_df['concept_name']:\n",
    "    cond = cond.lower()\n",
    "    if 'male' in cond or 'maternal' in cond or 'uterine' in cond \\\n",
    "    or 'pregnancy' in cond or 'menopausal' in cond or 'uterus' in cond \\\n",
    "    or 'umbilical' in cond or 'gestation' in cond or 'cervix' in cond \\\n",
    "    or 'birth' in cond or 'vaginal' in cond or 'vagina' in cond or 'vulva' in cond or 'placenta' in cond \\\n",
    "    or 'ovary' in cond or 'miscarriage' in cond or 'postpartum' in cond or 'live born' in cond or 'obstet' in cond:\n",
    "        # print(cond)\n",
    "        sex_specific_name.append(False)\n",
    "    elif 'penis' in cond or 'testis' in cond or 'testicle' in cond:\n",
    "        sex_specific_name.append(False)\n",
    "    else:\n",
    "        sex_specific_name.append(True)\n",
    "        \n",
    "not_a_legit_concept = all_conds_df['concept_name'] == 'No matching concept'\n",
    "\n",
    "valid_conds = (num_persons) & (not_sex_specific) & (sex_specific_name) & (not_male_only) & (not_female_only) & (~not_a_legit_concept)"
   ]
  },
  {
   "cell_type": "code",
   "execution_count": 12,
   "id": "controlling-contract",
   "metadata": {},
   "outputs": [
    {
     "data": {
      "text/html": [
       "<div>\n",
       "<style scoped>\n",
       "    .dataframe tbody tr th:only-of-type {\n",
       "        vertical-align: middle;\n",
       "    }\n",
       "\n",
       "    .dataframe tbody tr th {\n",
       "        vertical-align: top;\n",
       "    }\n",
       "\n",
       "    .dataframe thead th {\n",
       "        text-align: right;\n",
       "    }\n",
       "</style>\n",
       "<table border=\"1\" class=\"dataframe\">\n",
       "  <thead>\n",
       "    <tr style=\"text-align: right;\">\n",
       "      <th></th>\n",
       "      <th>source_name</th>\n",
       "      <th>concept_id</th>\n",
       "      <th>concept_name</th>\n",
       "      <th>num_persons</th>\n",
       "      <th>prev_overall</th>\n",
       "      <th>num_female</th>\n",
       "      <th>prev_female</th>\n",
       "      <th>num_male</th>\n",
       "      <th>prev_male</th>\n",
       "      <th>rr_female</th>\n",
       "      <th>...</th>\n",
       "      <th>avg_age_diff</th>\n",
       "      <th>std_dev_age</th>\n",
       "      <th>std_dev_age_female</th>\n",
       "      <th>std_dev_age_male</th>\n",
       "      <th>min_age</th>\n",
       "      <th>min_age_female</th>\n",
       "      <th>min_age_male</th>\n",
       "      <th>max_age</th>\n",
       "      <th>max_age_female</th>\n",
       "      <th>max_age_male</th>\n",
       "    </tr>\n",
       "  </thead>\n",
       "  <tbody>\n",
       "    <tr>\n",
       "      <th>93</th>\n",
       "      <td>cumc</td>\n",
       "      <td>78804</td>\n",
       "      <td>Fibrocystic disease of breast</td>\n",
       "      <td>16344</td>\n",
       "      <td>0.681226</td>\n",
       "      <td>16319</td>\n",
       "      <td>1.164313</td>\n",
       "      <td>23</td>\n",
       "      <td>0.002308</td>\n",
       "      <td>504.565183</td>\n",
       "      <td>...</td>\n",
       "      <td>-2.330807</td>\n",
       "      <td>13.802593</td>\n",
       "      <td>13.794393</td>\n",
       "      <td>18.969603</td>\n",
       "      <td>11.0</td>\n",
       "      <td>11.0</td>\n",
       "      <td>18.0</td>\n",
       "      <td>98.0</td>\n",
       "      <td>98.0</td>\n",
       "      <td>83.0</td>\n",
       "    </tr>\n",
       "  </tbody>\n",
       "</table>\n",
       "<p>1 rows × 24 columns</p>\n",
       "</div>"
      ],
      "text/plain": [
       "   source_name  concept_id                   concept_name  num_persons  \\\n",
       "93        cumc       78804  Fibrocystic disease of breast        16344   \n",
       "\n",
       "    prev_overall  num_female  prev_female  num_male  prev_male   rr_female  \\\n",
       "93      0.681226       16319     1.164313        23   0.002308  504.565183   \n",
       "\n",
       "    ...  avg_age_diff  std_dev_age  std_dev_age_female  std_dev_age_male  \\\n",
       "93  ...     -2.330807    13.802593           13.794393         18.969603   \n",
       "\n",
       "    min_age  min_age_female  min_age_male  max_age  max_age_female  \\\n",
       "93     11.0            11.0          18.0     98.0            98.0   \n",
       "\n",
       "    max_age_male  \n",
       "93          83.0  \n",
       "\n",
       "[1 rows x 24 columns]"
      ]
     },
     "execution_count": 12,
     "metadata": {},
     "output_type": "execute_result"
    }
   ],
   "source": [
    "all_conds_df[all_conds_df.concept_id == 78804]"
   ]
  },
  {
   "cell_type": "code",
   "execution_count": 13,
   "id": "brilliant-package",
   "metadata": {},
   "outputs": [
    {
     "data": {
      "text/plain": [
       "(8761, 16323, 15421, 15483, 14293, 16515)"
      ]
     },
     "execution_count": 13,
     "metadata": {},
     "output_type": "execute_result"
    }
   ],
   "source": [
    "sum(num_persons), sum(not_sex_specific), sum(sex_specific_name), sum(not_male_only), sum(not_female_only), sum(~not_a_legit_concept)"
   ]
  },
  {
   "cell_type": "code",
   "execution_count": 14,
   "id": "alpine-equipment",
   "metadata": {},
   "outputs": [
    {
     "data": {
      "text/plain": [
       "7822"
      ]
     },
     "execution_count": 14,
     "metadata": {},
     "output_type": "execute_result"
    }
   ],
   "source": [
    "sum(valid_conds)"
   ]
  },
  {
   "cell_type": "code",
   "execution_count": 15,
   "id": "according-trial",
   "metadata": {},
   "outputs": [
    {
     "data": {
      "text/plain": [
       "1.2618316986889442"
      ]
     },
     "execution_count": 15,
     "metadata": {},
     "output_type": "execute_result"
    }
   ],
   "source": [
    "np.mean(all_conds_df[valid_conds]['rr_female'])"
   ]
  },
  {
   "cell_type": "code",
   "execution_count": 16,
   "id": "associate-minister",
   "metadata": {},
   "outputs": [
    {
     "data": {
      "image/png": "[encoded data removed]",
      "text/plain": [
       "<Figure size 432x432 with 1 Axes>"
      ]
     },
     "metadata": {
      "needs_background": "light"
     },
     "output_type": "display_data"
    }
   ],
   "source": [
    "# V4 updated\n",
    "N, bins, patches = plt.hist(all_conds_df[valid_conds]['rr_female'], color='#676767', \n",
    "         alpha=0.5, range = (0, 5), bins=55)\n",
    "\n",
    "for i, bin_val in enumerate(bins):\n",
    "    if bin_val > 1.47:\n",
    "        try:\n",
    "            patches[i].set_facecolor('red')\n",
    "        except IndexError:\n",
    "            continue\n",
    "\n",
    "for i, bin_val in enumerate(bins):\n",
    "    if bin_val < 2/3:\n",
    "        try:\n",
    "            patches[i].set_facecolor('blue')\n",
    "        except IndexError:\n",
    "            continue\n",
    "\n",
    "greater = len(all_conds_df[valid_conds][(all_conds_df[valid_conds]['rr_female']) > 3/2])\n",
    "fewer   = len(all_conds_df[valid_conds][(all_conds_df[valid_conds]['rr_female']) < 2/3])          \n",
    "    \n",
    "# plt.vlines(x=10, ymin=0, ymax=300)\n",
    "plt.title('Distribution of female risk ratio')\n",
    "# plt.legend(loc='upper left')\n",
    "plt.text(2, 335, '$RR_{female}$ > 3/2: ' + str(greater) + ' concepts') # 350\n",
    "plt.text(2, 285, '$RR_{female}$ < 2/3: ' + str(fewer) + ' concepts') # 300\n",
    "plt.xlabel('Female risk ratio')\n",
    "plt.ylabel('Count')\n",
    "\n",
    "# ax = plt.axes()\n",
    "# ax.set(facecolor = '#ffffff')\n",
    "\n",
    "plt.vlines(x=2/3 + 0.04, ymin=0, ymax=300, color='black')\n",
    "plt.vlines(x=1.53, ymin=0, ymax=350, color='black')\n",
    "\n",
    "plt.hlines(y=350, xmin=1.53, xmax=1.8, color='black')\n",
    "plt.hlines(y=300, xmin=2/3 + 0.02, xmax=1.8, color='black')\n",
    "\n",
    "fig = plt.gcf()\n",
    "fig.set_size_inches(6, 6)\n",
    "fig.savefig('../../output/graphs/' + db + '_female_rr.png')"
   ]
  },
  {
   "cell_type": "code",
   "execution_count": 17,
   "id": "convertible-biotechnology",
   "metadata": {},
   "outputs": [],
   "source": [
    "### Normed customized risk ratio [centered at zero]:\n",
    "rr_female = list(all_conds_df[valid_conds]['rr_female'])\n",
    "customized = []\n",
    "\n",
    "for ele in rr_female:\n",
    "    if ele > 1:\n",
    "        customized.append(ele - 1) # Append 1 - female risk ratio\n",
    "    else:\n",
    "        customized.append(-1 * (1/ele - 1)) # Append -1 * 1 - male risk ratio"
   ]
  },
  {
   "cell_type": "code",
   "execution_count": 18,
   "id": "rolled-circus",
   "metadata": {},
   "outputs": [],
   "source": [
    "mean = np.mean(customized)\n",
    "std  = np.std(customized)"
   ]
  },
  {
   "cell_type": "code",
   "execution_count": 19,
   "id": "impressive-sending",
   "metadata": {},
   "outputs": [
    {
     "data": {
      "image/png": "[encoded data removed]",
      "text/plain": [
       "<Figure size 432x432 with 1 Axes>"
      ]
     },
     "metadata": {
      "needs_background": "light"
     },
     "output_type": "display_data"
    }
   ],
   "source": [
    "# V4 updated\n",
    "N, bins, patches = plt.hist(100 * np.asarray(customized), color='green', \n",
    "         alpha=0.5, bins=55, range=(-500, 500))\n",
    "\n",
    "for i, bin_val in enumerate(bins):\n",
    "    if bin_val < 0:\n",
    "        try:\n",
    "            patches[i].set_facecolor('blue')\n",
    "        except IndexError:\n",
    "            continue\n",
    "            \n",
    "for i, bin_val in enumerate(bins):\n",
    "    if bin_val > 0:\n",
    "        try:\n",
    "            patches[i].set_facecolor('red')\n",
    "        except IndexError:\n",
    "            continue\n",
    "\n",
    "red_patch = mpatches.Patch(color='red', label='Women greater risk', alpha = 0.5)\n",
    "blue_patch = mpatches.Patch(color='blue', label='Men greater risk', alpha = 0.5)\n",
    "\n",
    "plt.legend(handles=[blue_patch, red_patch], loc='upper left')\n",
    "            \n",
    "# plt.vlines(x=10, ymin=0, ymax=300)\n",
    "plt.title('Distribution of increased risk: $\\mu = ' + str(np.round(mean, 2)) + '\\%$')\n",
    "# plt.legend(loc='upper left')\n",
    "# plt.text(2, 330, '$RR_{female}$ > 1:: 2424 concepts')\n",
    "# plt.text(2, 300, '$RR_{female}$ < 1:: 4357 concepts')\n",
    "plt.xlabel('Percentage increased risk (relative to other class)')\n",
    "plt.ylabel('Count')\n",
    "fig = plt.gcf()\n",
    "fig.set_size_inches(6, 6)\n",
    "fig.savefig('../../output/graphs/' + db + '_increased_risk.png')"
   ]
  },
  {
   "cell_type": "code",
   "execution_count": 20,
   "id": "scheduled-living",
   "metadata": {},
   "outputs": [],
   "source": [
    "#  Age diff\n",
    "all_conds_df['avg_age_diff'] = all_conds_df['avg_age_female'] - all_conds_df['avg_age_male']"
   ]
  },
  {
   "cell_type": "code",
   "execution_count": 21,
   "id": "specific-pacific",
   "metadata": {},
   "outputs": [],
   "source": [
    "mean_age = np.mean(all_conds_df[valid_conds]['avg_age_diff'])"
   ]
  },
  {
   "cell_type": "code",
   "execution_count": 22,
   "id": "pretty-cholesterol",
   "metadata": {},
   "outputs": [],
   "source": [
    "greater10 = len(all_conds_df[valid_conds][(all_conds_df[valid_conds]['avg_age_diff']) > 10])\n",
    "lessthan10 = len(all_conds_df[valid_conds][(all_conds_df[valid_conds]['avg_age_diff']) < -10])"
   ]
  },
  {
   "cell_type": "code",
   "execution_count": 23,
   "id": "prescribed-rebound",
   "metadata": {},
   "outputs": [
    {
     "data": {
      "image/png": "[encoded data removed]",
      "text/plain": [
       "<Figure size 432x432 with 1 Axes>"
      ]
     },
     "metadata": {
      "needs_background": "light"
     },
     "output_type": "display_data"
    }
   ],
   "source": [
    "# V4 updated\n",
    "N, bins, patches = plt.hist(all_conds_df[valid_conds]['avg_age_diff'], color='#676767', \n",
    "         alpha=0.5, bins=55)\n",
    "\n",
    "plt.rc('font', size=10)          # controls default text sizes\n",
    "\n",
    "for i, bin_val in enumerate(bins):\n",
    "    if bin_val > 9.6:\n",
    "        try:\n",
    "            patches[i].set_facecolor('red')\n",
    "        except IndexError:\n",
    "            continue\n",
    "            \n",
    "for i, bin_val in enumerate(bins):\n",
    "    if bin_val < -10:\n",
    "        try:\n",
    "            patches[i].set_facecolor('blue')\n",
    "        except IndexError:\n",
    "            continue\n",
    "            \n",
    "plt.vlines(x=10, ymin=0, ymax=300, color='black')\n",
    "plt.vlines(x=-9, ymin=0, ymax=300, color='black')\n",
    "\n",
    "plt.title('Distribution of age differences: $\\mu_{diff} = ' + str(np.round(mean_age, 2)) + '$ years')\n",
    "# plt.legend(loc='upper left')\n",
    "plt.text(11, 250, str(greater10) + ' conditions w/\\n10+ year older\\nfirst age of\\ndiagnosis for women')\n",
    "plt.text(-41, 250, str(lessthan10) + ' conditions w/\\n10+ year older\\nfirst age of diagnosis\\nfor men')\n",
    "\n",
    "plt.xlabel('Age difference (female - male)')\n",
    "plt.ylabel('Count')\n",
    "fig = plt.gcf()\n",
    "fig.set_size_inches(6, 6)\n",
    "fig.savefig('../../output/graphs/' + db + '_age_dist.png')"
   ]
  },
  {
   "cell_type": "code",
   "execution_count": 24,
   "id": "optional-rider",
   "metadata": {},
   "outputs": [],
   "source": [
    "conn.close()"
   ]
  }
 ],
 "metadata": {
  "kernelspec": {
   "display_name": "Python 3",
   "language": "python",
   "name": "python3"
  },
  "language_info": {
   "codemirror_mode": {
    "name": "ipython",
    "version": 3
   },
   "file_extension": ".py",
   "mimetype": "text/x-python",
   "name": "python",
   "nbconvert_exporter": "python",
   "pygments_lexer": "ipython3",
   "version": "3.9.1"
  }
 },
 "nbformat": 4,
 "nbformat_minor": 5
}
