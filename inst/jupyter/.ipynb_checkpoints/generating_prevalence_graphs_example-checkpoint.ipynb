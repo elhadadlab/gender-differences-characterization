{
 "cells": [
  {
   "cell_type": "code",
   "execution_count": null,
   "id": "collected-distributor",
   "metadata": {},
   "outputs": [],
   "source": [
    "'''\n",
    "STILL A TODO.  Add in right SQL script.\n",
    "'''"
   ]
  },
  {
   "cell_type": "code",
   "execution_count": 1,
   "id": "several-pitch",
   "metadata": {},
   "outputs": [],
   "source": [
    "import pandas as pd\n",
    "import tqdm\n",
    "import numpy as np\n",
    "from collections import OrderedDict\n",
    "from collections import defaultdict\n",
    "import pickle\n",
    "import glob\n",
    "from matplotlib import pyplot as plt\n",
    "%matplotlib inline\n",
    "\n",
    "import plotly\n",
    "import plotly.graph_objects as go"
   ]
  },
  {
   "cell_type": "code",
   "execution_count": 2,
   "id": "virgin-brazil",
   "metadata": {},
   "outputs": [],
   "source": [
    "import pandas.io.sql\n",
    "import pyodbc\n",
    "import tqdm\n",
    "\n",
    "import pickle\n",
    "import glob"
   ]
  },
  {
   "cell_type": "code",
   "execution_count": 5,
   "id": "floppy-ownership",
   "metadata": {},
   "outputs": [],
   "source": [
    "import sys\n",
    "sys.path.append('C:\\\\Users\\\\tonys\\\\Documents\\\\Research\\\\characterizationPaperPackage\\\\inst\\\\py\\\\')"
   ]
  },
  {
   "cell_type": "code",
   "execution_count": 6,
   "id": "incomplete-vocabulary",
   "metadata": {},
   "outputs": [
    {
     "name": "stdout",
     "output_type": "stream",
     "text": [
      "Imported settings...\n",
      "Current path:  C:\\Users\\tonys\\Documents\\Research\\characterizationPaperPackage\\inst\\py\\\n"
     ]
    }
   ],
   "source": [
    "from settings import *"
   ]
  },
  {
   "cell_type": "code",
   "execution_count": 7,
   "id": "architectural-westminster",
   "metadata": {},
   "outputs": [],
   "source": [
    "# Create the connection\n",
    "conn = pyodbc.connect('DRIVER={ODBC Driver 17 for SQL Server};SERVER='+server+';DATABASE='+db+';UID='+user+';PWD='+ password)"
   ]
  },
  {
   "cell_type": "code",
   "execution_count": 8,
   "id": "under-romantic",
   "metadata": {},
   "outputs": [],
   "source": [
    "sql_query_string = 'select * from ' + db + '.results.pbr_sexdiff_cohort_covarate_summary_v5'\n",
    "all_conds_df = pandas.io.sql.read_sql(sql_query_string, conn)"
   ]
  },
  {
   "cell_type": "code",
   "execution_count": 9,
   "id": "relative-default",
   "metadata": {},
   "outputs": [
    {
     "data": {
      "text/plain": [
       "333813930"
      ]
     },
     "execution_count": 9,
     "metadata": {},
     "output_type": "execute_result"
    }
   ],
   "source": [
    "sys.getsizeof(all_conds_df)"
   ]
  },
  {
   "cell_type": "code",
   "execution_count": 10,
   "id": "worth-netscape",
   "metadata": {},
   "outputs": [
    {
     "data": {
      "text/html": [
       "<div>\n",
       "<style scoped>\n",
       "    .dataframe tbody tr th:only-of-type {\n",
       "        vertical-align: middle;\n",
       "    }\n",
       "\n",
       "    .dataframe tbody tr th {\n",
       "        vertical-align: top;\n",
       "    }\n",
       "\n",
       "    .dataframe thead th {\n",
       "        text-align: right;\n",
       "    }\n",
       "</style>\n",
       "<table border=\"1\" class=\"dataframe\">\n",
       "  <thead>\n",
       "    <tr style=\"text-align: right;\">\n",
       "      <th></th>\n",
       "      <th>source_name</th>\n",
       "      <th>cohort_definition_id</th>\n",
       "      <th>cohort_definition_name</th>\n",
       "      <th>concept_id</th>\n",
       "      <th>concept_name</th>\n",
       "      <th>num_persons_w_covariate</th>\n",
       "      <th>num_persons_total</th>\n",
       "      <th>pct_persons_w_covariate</th>\n",
       "      <th>num_females</th>\n",
       "      <th>num_males</th>\n",
       "      <th>pct_females</th>\n",
       "      <th>prev_females</th>\n",
       "      <th>prev_males</th>\n",
       "      <th>rr_female</th>\n",
       "    </tr>\n",
       "  </thead>\n",
       "  <tbody>\n",
       "    <tr>\n",
       "      <th>0</th>\n",
       "      <td>ohdsi_cumc_2021q1r2</td>\n",
       "      <td>11232</td>\n",
       "      <td>[PL 44784217001] Cardiac arrhythmia referent c...</td>\n",
       "      <td>27918</td>\n",
       "      <td>Eosinophilic esophagitis</td>\n",
       "      <td>47</td>\n",
       "      <td>86868</td>\n",
       "      <td>0.000541</td>\n",
       "      <td>17</td>\n",
       "      <td>30</td>\n",
       "      <td>0.361702</td>\n",
       "      <td>0.038752</td>\n",
       "      <td>0.069769</td>\n",
       "      <td>0.555429</td>\n",
       "    </tr>\n",
       "    <tr>\n",
       "      <th>1</th>\n",
       "      <td>ohdsi_cumc_2021q1r2</td>\n",
       "      <td>11125</td>\n",
       "      <td>[PL 134442005] Systemic sclerosis or or locali...</td>\n",
       "      <td>27918</td>\n",
       "      <td>Eosinophilic esophagitis</td>\n",
       "      <td>4</td>\n",
       "      <td>1966</td>\n",
       "      <td>0.002035</td>\n",
       "      <td>2</td>\n",
       "      <td>2</td>\n",
       "      <td>0.500000</td>\n",
       "      <td>0.119832</td>\n",
       "      <td>0.673401</td>\n",
       "      <td>0.177951</td>\n",
       "    </tr>\n",
       "    <tr>\n",
       "      <th>2</th>\n",
       "      <td>ohdsi_cumc_2021q1r2</td>\n",
       "      <td>11189</td>\n",
       "      <td>[PL 434592003] B-cell lymphoma incident cohort...</td>\n",
       "      <td>27918</td>\n",
       "      <td>Eosinophilic esophagitis</td>\n",
       "      <td>3</td>\n",
       "      <td>2413</td>\n",
       "      <td>0.001243</td>\n",
       "      <td>2</td>\n",
       "      <td>1</td>\n",
       "      <td>0.666667</td>\n",
       "      <td>0.167364</td>\n",
       "      <td>0.082102</td>\n",
       "      <td>2.038494</td>\n",
       "    </tr>\n",
       "    <tr>\n",
       "      <th>3</th>\n",
       "      <td>ohdsi_cumc_2021q1r2</td>\n",
       "      <td>11114</td>\n",
       "      <td>[PL 31967003] Nausea Events All Events of refe...</td>\n",
       "      <td>28060</td>\n",
       "      <td>Streptococcal sore throat</td>\n",
       "      <td>857</td>\n",
       "      <td>49704</td>\n",
       "      <td>0.017242</td>\n",
       "      <td>569</td>\n",
       "      <td>288</td>\n",
       "      <td>0.663944</td>\n",
       "      <td>1.657105</td>\n",
       "      <td>1.874146</td>\n",
       "      <td>0.884192</td>\n",
       "    </tr>\n",
       "    <tr>\n",
       "      <th>4</th>\n",
       "      <td>ohdsi_cumc_2021q1r2</td>\n",
       "      <td>11225</td>\n",
       "      <td>[PL 4281232001] Type B viral hepatitis referen...</td>\n",
       "      <td>28060</td>\n",
       "      <td>Streptococcal sore throat</td>\n",
       "      <td>9</td>\n",
       "      <td>2186</td>\n",
       "      <td>0.004117</td>\n",
       "      <td>7</td>\n",
       "      <td>2</td>\n",
       "      <td>0.777778</td>\n",
       "      <td>0.691700</td>\n",
       "      <td>0.170358</td>\n",
       "      <td>4.060277</td>\n",
       "    </tr>\n",
       "  </tbody>\n",
       "</table>\n",
       "</div>"
      ],
      "text/plain": [
       "           source_name  cohort_definition_id  \\\n",
       "0  ohdsi_cumc_2021q1r2                 11232   \n",
       "1  ohdsi_cumc_2021q1r2                 11125   \n",
       "2  ohdsi_cumc_2021q1r2                 11189   \n",
       "3  ohdsi_cumc_2021q1r2                 11114   \n",
       "4  ohdsi_cumc_2021q1r2                 11225   \n",
       "\n",
       "                              cohort_definition_name  concept_id  \\\n",
       "0  [PL 44784217001] Cardiac arrhythmia referent c...       27918   \n",
       "1  [PL 134442005] Systemic sclerosis or or locali...       27918   \n",
       "2  [PL 434592003] B-cell lymphoma incident cohort...       27918   \n",
       "3  [PL 31967003] Nausea Events All Events of refe...       28060   \n",
       "4  [PL 4281232001] Type B viral hepatitis referen...       28060   \n",
       "\n",
       "                concept_name  num_persons_w_covariate  num_persons_total  \\\n",
       "0   Eosinophilic esophagitis                       47              86868   \n",
       "1   Eosinophilic esophagitis                        4               1966   \n",
       "2   Eosinophilic esophagitis                        3               2413   \n",
       "3  Streptococcal sore throat                      857              49704   \n",
       "4  Streptococcal sore throat                        9               2186   \n",
       "\n",
       "   pct_persons_w_covariate  num_females  num_males  pct_females  prev_females  \\\n",
       "0                 0.000541           17         30     0.361702      0.038752   \n",
       "1                 0.002035            2          2     0.500000      0.119832   \n",
       "2                 0.001243            2          1     0.666667      0.167364   \n",
       "3                 0.017242          569        288     0.663944      1.657105   \n",
       "4                 0.004117            7          2     0.777778      0.691700   \n",
       "\n",
       "   prev_males  rr_female  \n",
       "0    0.069769   0.555429  \n",
       "1    0.673401   0.177951  \n",
       "2    0.082102   2.038494  \n",
       "3    1.874146   0.884192  \n",
       "4    0.170358   4.060277  "
      ]
     },
     "execution_count": 10,
     "metadata": {},
     "output_type": "execute_result"
    }
   ],
   "source": [
    "all_conds_df.head()"
   ]
  },
  {
   "cell_type": "code",
   "execution_count": 11,
   "id": "dominican-usage",
   "metadata": {},
   "outputs": [
    {
     "ename": "KeyError",
     "evalue": "'num_persons'",
     "output_type": "error",
     "traceback": [
      "\u001b[1;31m---------------------------------------------------------------------------\u001b[0m",
      "\u001b[1;31mKeyError\u001b[0m                                  Traceback (most recent call last)",
      "\u001b[1;32mc:\\users\\tonys\\appdata\\local\\programs\\python\\python39\\lib\\site-packages\\pandas\\core\\indexes\\base.py\u001b[0m in \u001b[0;36mget_loc\u001b[1;34m(self, key, method, tolerance)\u001b[0m\n\u001b[0;32m   3079\u001b[0m             \u001b[1;32mtry\u001b[0m\u001b[1;33m:\u001b[0m\u001b[1;33m\u001b[0m\u001b[1;33m\u001b[0m\u001b[0m\n\u001b[1;32m-> 3080\u001b[1;33m                 \u001b[1;32mreturn\u001b[0m \u001b[0mself\u001b[0m\u001b[1;33m.\u001b[0m\u001b[0m_engine\u001b[0m\u001b[1;33m.\u001b[0m\u001b[0mget_loc\u001b[0m\u001b[1;33m(\u001b[0m\u001b[0mcasted_key\u001b[0m\u001b[1;33m)\u001b[0m\u001b[1;33m\u001b[0m\u001b[1;33m\u001b[0m\u001b[0m\n\u001b[0m\u001b[0;32m   3081\u001b[0m             \u001b[1;32mexcept\u001b[0m \u001b[0mKeyError\u001b[0m \u001b[1;32mas\u001b[0m \u001b[0merr\u001b[0m\u001b[1;33m:\u001b[0m\u001b[1;33m\u001b[0m\u001b[1;33m\u001b[0m\u001b[0m\n",
      "\u001b[1;32mpandas\\_libs\\index.pyx\u001b[0m in \u001b[0;36mpandas._libs.index.IndexEngine.get_loc\u001b[1;34m()\u001b[0m\n",
      "\u001b[1;32mpandas\\_libs\\index.pyx\u001b[0m in \u001b[0;36mpandas._libs.index.IndexEngine.get_loc\u001b[1;34m()\u001b[0m\n",
      "\u001b[1;32mpandas\\_libs\\hashtable_class_helper.pxi\u001b[0m in \u001b[0;36mpandas._libs.hashtable.PyObjectHashTable.get_item\u001b[1;34m()\u001b[0m\n",
      "\u001b[1;32mpandas\\_libs\\hashtable_class_helper.pxi\u001b[0m in \u001b[0;36mpandas._libs.hashtable.PyObjectHashTable.get_item\u001b[1;34m()\u001b[0m\n",
      "\u001b[1;31mKeyError\u001b[0m: 'num_persons'",
      "\nThe above exception was the direct cause of the following exception:\n",
      "\u001b[1;31mKeyError\u001b[0m                                  Traceback (most recent call last)",
      "\u001b[1;32m<ipython-input-11-cf846c1b8305>\u001b[0m in \u001b[0;36m<module>\u001b[1;34m\u001b[0m\n\u001b[0;32m      3\u001b[0m \u001b[1;33m\u001b[0m\u001b[0m\n\u001b[0;32m      4\u001b[0m \u001b[1;31m# Minumum number of humans\u001b[0m\u001b[1;33m\u001b[0m\u001b[1;33m\u001b[0m\u001b[1;33m\u001b[0m\u001b[0m\n\u001b[1;32m----> 5\u001b[1;33m \u001b[0mnum_persons\u001b[0m \u001b[1;33m=\u001b[0m \u001b[0mall_conds_df\u001b[0m\u001b[1;33m[\u001b[0m\u001b[1;34m'num_persons'\u001b[0m\u001b[1;33m]\u001b[0m \u001b[1;33m>=\u001b[0m \u001b[1;36m50\u001b[0m\u001b[1;33m\u001b[0m\u001b[1;33m\u001b[0m\u001b[0m\n\u001b[0m\u001b[0;32m      6\u001b[0m \u001b[1;33m\u001b[0m\u001b[0m\n\u001b[0;32m      7\u001b[0m \u001b[1;31m# Remove OHDSI's DQD list of sex-specific\u001b[0m\u001b[1;33m\u001b[0m\u001b[1;33m\u001b[0m\u001b[1;33m\u001b[0m\u001b[0m\n",
      "\u001b[1;32mc:\\users\\tonys\\appdata\\local\\programs\\python\\python39\\lib\\site-packages\\pandas\\core\\frame.py\u001b[0m in \u001b[0;36m__getitem__\u001b[1;34m(self, key)\u001b[0m\n\u001b[0;32m   3022\u001b[0m             \u001b[1;32mif\u001b[0m \u001b[0mself\u001b[0m\u001b[1;33m.\u001b[0m\u001b[0mcolumns\u001b[0m\u001b[1;33m.\u001b[0m\u001b[0mnlevels\u001b[0m \u001b[1;33m>\u001b[0m \u001b[1;36m1\u001b[0m\u001b[1;33m:\u001b[0m\u001b[1;33m\u001b[0m\u001b[1;33m\u001b[0m\u001b[0m\n\u001b[0;32m   3023\u001b[0m                 \u001b[1;32mreturn\u001b[0m \u001b[0mself\u001b[0m\u001b[1;33m.\u001b[0m\u001b[0m_getitem_multilevel\u001b[0m\u001b[1;33m(\u001b[0m\u001b[0mkey\u001b[0m\u001b[1;33m)\u001b[0m\u001b[1;33m\u001b[0m\u001b[1;33m\u001b[0m\u001b[0m\n\u001b[1;32m-> 3024\u001b[1;33m             \u001b[0mindexer\u001b[0m \u001b[1;33m=\u001b[0m \u001b[0mself\u001b[0m\u001b[1;33m.\u001b[0m\u001b[0mcolumns\u001b[0m\u001b[1;33m.\u001b[0m\u001b[0mget_loc\u001b[0m\u001b[1;33m(\u001b[0m\u001b[0mkey\u001b[0m\u001b[1;33m)\u001b[0m\u001b[1;33m\u001b[0m\u001b[1;33m\u001b[0m\u001b[0m\n\u001b[0m\u001b[0;32m   3025\u001b[0m             \u001b[1;32mif\u001b[0m \u001b[0mis_integer\u001b[0m\u001b[1;33m(\u001b[0m\u001b[0mindexer\u001b[0m\u001b[1;33m)\u001b[0m\u001b[1;33m:\u001b[0m\u001b[1;33m\u001b[0m\u001b[1;33m\u001b[0m\u001b[0m\n\u001b[0;32m   3026\u001b[0m                 \u001b[0mindexer\u001b[0m \u001b[1;33m=\u001b[0m \u001b[1;33m[\u001b[0m\u001b[0mindexer\u001b[0m\u001b[1;33m]\u001b[0m\u001b[1;33m\u001b[0m\u001b[1;33m\u001b[0m\u001b[0m\n",
      "\u001b[1;32mc:\\users\\tonys\\appdata\\local\\programs\\python\\python39\\lib\\site-packages\\pandas\\core\\indexes\\base.py\u001b[0m in \u001b[0;36mget_loc\u001b[1;34m(self, key, method, tolerance)\u001b[0m\n\u001b[0;32m   3080\u001b[0m                 \u001b[1;32mreturn\u001b[0m \u001b[0mself\u001b[0m\u001b[1;33m.\u001b[0m\u001b[0m_engine\u001b[0m\u001b[1;33m.\u001b[0m\u001b[0mget_loc\u001b[0m\u001b[1;33m(\u001b[0m\u001b[0mcasted_key\u001b[0m\u001b[1;33m)\u001b[0m\u001b[1;33m\u001b[0m\u001b[1;33m\u001b[0m\u001b[0m\n\u001b[0;32m   3081\u001b[0m             \u001b[1;32mexcept\u001b[0m \u001b[0mKeyError\u001b[0m \u001b[1;32mas\u001b[0m \u001b[0merr\u001b[0m\u001b[1;33m:\u001b[0m\u001b[1;33m\u001b[0m\u001b[1;33m\u001b[0m\u001b[0m\n\u001b[1;32m-> 3082\u001b[1;33m                 \u001b[1;32mraise\u001b[0m \u001b[0mKeyError\u001b[0m\u001b[1;33m(\u001b[0m\u001b[0mkey\u001b[0m\u001b[1;33m)\u001b[0m \u001b[1;32mfrom\u001b[0m \u001b[0merr\u001b[0m\u001b[1;33m\u001b[0m\u001b[1;33m\u001b[0m\u001b[0m\n\u001b[0m\u001b[0;32m   3083\u001b[0m \u001b[1;33m\u001b[0m\u001b[0m\n\u001b[0;32m   3084\u001b[0m         \u001b[1;32mif\u001b[0m \u001b[0mtolerance\u001b[0m \u001b[1;32mis\u001b[0m \u001b[1;32mnot\u001b[0m \u001b[1;32mNone\u001b[0m\u001b[1;33m:\u001b[0m\u001b[1;33m\u001b[0m\u001b[1;33m\u001b[0m\u001b[0m\n",
      "\u001b[1;31mKeyError\u001b[0m: 'num_persons'"
     ]
    }
   ],
   "source": [
    "# New criteria\n",
    "DQD = pd.read_csv('../csv/OMOP_dqd.csv')\n",
    "\n",
    "# Minumum number of humans\n",
    "num_persons = all_conds_df['num_persons'] >= 50\n",
    "\n",
    "# Remove OHDSI's DQD list of sex-specific\n",
    "not_sex_specific = ~all_conds_df['concept_id'].isin(DQD[~DQD['plausibleGender'].isnull()]['conceptId'])\n",
    "\n",
    "# Limit diseases that are super prevalent in only females\n",
    "not_female_only = all_conds_df['pct_female'] < 99\n",
    "not_male_only   = all_conds_df['pct_female'] > 1\n",
    "\n",
    "# Remove conditions that have male/female in their names\n",
    "sex_specific_name = []\n",
    "for cond in all_conds_df['concept_name']:\n",
    "    cond = cond.lower()\n",
    "    if 'male' in cond or 'maternal' in cond or 'uterine' in cond \\\n",
    "    or 'pregnancy' in cond or 'menopausal' in cond or 'uterus' in cond \\\n",
    "    or 'umbilical' in cond or 'gestation' in cond or 'cervix' in cond \\\n",
    "    or 'birth' in cond or 'vaginal' in cond or 'vagina' in cond or 'vulva' in cond or 'placenta' in cond \\\n",
    "    or 'ovary' in cond or 'miscarriage' in cond or 'postpartum' in cond or 'live born' in cond or 'obstet' in cond:\n",
    "        # print(cond)\n",
    "        sex_specific_name.append(False)\n",
    "    elif 'penis' in cond or 'testis' in cond or 'testicle' in cond:\n",
    "        sex_specific_name.append(False)\n",
    "    else:\n",
    "        sex_specific_name.append(True)\n",
    "        \n",
    "not_a_legit_concept = all_conds_df['concept_name'] == 'No matching concept'\n",
    "\n",
    "valid_conds = (num_persons) & (not_sex_specific) & (sex_specific_name) & (not_male_only) & (not_female_only) & (~not_a_legit_concept)"
   ]
  },
  {
   "cell_type": "code",
   "execution_count": null,
   "id": "according-trial",
   "metadata": {},
   "outputs": [],
   "source": []
  }
 ],
 "metadata": {
  "kernelspec": {
   "display_name": "Python 3",
   "language": "python",
   "name": "python3"
  },
  "language_info": {
   "codemirror_mode": {
    "name": "ipython",
    "version": 3
   },
   "file_extension": ".py",
   "mimetype": "text/x-python",
   "name": "python",
   "nbconvert_exporter": "python",
   "pygments_lexer": "ipython3",
   "version": "3.9.1"
  }
 },
 "nbformat": 4,
 "nbformat_minor": 5
}
