{
 "cells": [
  {
   "cell_type": "code",
   "execution_count": null,
   "id": "missing-christmas",
   "metadata": {},
   "outputs": [],
   "source": [
    "'''\n",
    "This example shows an example connection using PyODBC to connect to a SQL Server instance,\n",
    "and then querying using Pandas in Python.\n",
    "'''"
   ]
  },
  {
   "cell_type": "code",
   "execution_count": 1,
   "id": "hidden-passport",
   "metadata": {},
   "outputs": [],
   "source": [
    "import pandas.io.sql\n",
    "import pyodbc\n",
    "import pandas as pd"
   ]
  },
  {
   "cell_type": "code",
   "execution_count": 2,
   "id": "stock-indiana",
   "metadata": {},
   "outputs": [],
   "source": [
    "import sys\n",
    "sys.path.append('C:\\\\Users\\\\tonys\\\\Documents\\\\Research\\\\characterizationPaperPackage\\\\inst\\\\py\\\\')"
   ]
  },
  {
   "cell_type": "code",
   "execution_count": 4,
   "id": "corresponding-compilation",
   "metadata": {},
   "outputs": [
    {
     "name": "stdout",
     "output_type": "stream",
     "text": [
      "Imported settings...\n",
      "Current path:  C:\\Users\\tonys\\Documents\\Research\\characterizationPaperPackage\\inst\\py\\\n"
     ]
    }
   ],
   "source": [
    "from settings import *"
   ]
  },
  {
   "cell_type": "code",
   "execution_count": 5,
   "id": "treated-schedule",
   "metadata": {},
   "outputs": [],
   "source": [
    "# Create the connection\n",
    "cnxn = pyodbc.connect('DRIVER={ODBC Driver 17 for SQL Server};SERVER='+server+';DATABASE='+db+';UID='+user+';PWD='+ password)"
   ]
  },
  {
   "cell_type": "code",
   "execution_count": 6,
   "id": "rolled-channels",
   "metadata": {},
   "outputs": [],
   "source": [
    "# Query into dataframe\n",
    "sql_query_string = 'select * from ohdsi_cumc_2021q1r2.results.pbr_sexdiff_cohort_covarate_summary_v5 where cohort_definition_id = 11111'\n",
    "df = pandas.io.sql.read_sql(sql_query_string, cnxn)"
   ]
  },
  {
   "cell_type": "code",
   "execution_count": 7,
   "id": "private-owner",
   "metadata": {
    "scrolled": true
   },
   "outputs": [
    {
     "data": {
      "text/html": [
       "<div>\n",
       "<style scoped>\n",
       "    .dataframe tbody tr th:only-of-type {\n",
       "        vertical-align: middle;\n",
       "    }\n",
       "\n",
       "    .dataframe tbody tr th {\n",
       "        vertical-align: top;\n",
       "    }\n",
       "\n",
       "    .dataframe thead th {\n",
       "        text-align: right;\n",
       "    }\n",
       "</style>\n",
       "<table border=\"1\" class=\"dataframe\">\n",
       "  <thead>\n",
       "    <tr style=\"text-align: right;\">\n",
       "      <th></th>\n",
       "      <th>source_name</th>\n",
       "      <th>cohort_definition_id</th>\n",
       "      <th>cohort_definition_name</th>\n",
       "      <th>concept_id</th>\n",
       "      <th>concept_name</th>\n",
       "      <th>num_persons_w_covariate</th>\n",
       "      <th>num_persons_total</th>\n",
       "      <th>pct_persons_w_covariate</th>\n",
       "      <th>num_females</th>\n",
       "      <th>num_males</th>\n",
       "      <th>pct_females</th>\n",
       "      <th>prev_females</th>\n",
       "      <th>prev_males</th>\n",
       "      <th>rr_female</th>\n",
       "    </tr>\n",
       "  </thead>\n",
       "  <tbody>\n",
       "    <tr>\n",
       "      <th>0</th>\n",
       "      <td>ohdsi_cumc_2021q1r2</td>\n",
       "      <td>11111</td>\n",
       "      <td>[PL 24134003] Neck pain cohort: First occurren...</td>\n",
       "      <td>23731</td>\n",
       "      <td>Benign neoplasm of larynx</td>\n",
       "      <td>6</td>\n",
       "      <td>38933</td>\n",
       "      <td>0.000154</td>\n",
       "      <td>3</td>\n",
       "      <td>3</td>\n",
       "      <td>0.500000</td>\n",
       "      <td>0.011748</td>\n",
       "      <td>0.022393</td>\n",
       "      <td>0.524632</td>\n",
       "    </tr>\n",
       "    <tr>\n",
       "      <th>1</th>\n",
       "      <td>ohdsi_cumc_2021q1r2</td>\n",
       "      <td>11111</td>\n",
       "      <td>[PL 24134003] Neck pain cohort: First occurren...</td>\n",
       "      <td>23806</td>\n",
       "      <td>Atrophy of salivary gland</td>\n",
       "      <td>2</td>\n",
       "      <td>25536</td>\n",
       "      <td>0.000078</td>\n",
       "      <td>2</td>\n",
       "      <td>0</td>\n",
       "      <td>1.000000</td>\n",
       "      <td>0.007832</td>\n",
       "      <td>0.000000</td>\n",
       "      <td>0.000000</td>\n",
       "    </tr>\n",
       "    <tr>\n",
       "      <th>2</th>\n",
       "      <td>ohdsi_cumc_2021q1r2</td>\n",
       "      <td>11111</td>\n",
       "      <td>[PL 24134003] Neck pain cohort: First occurren...</td>\n",
       "      <td>23808</td>\n",
       "      <td>Chronic peptic ulcer without hemorrhage, witho...</td>\n",
       "      <td>6</td>\n",
       "      <td>38933</td>\n",
       "      <td>0.000154</td>\n",
       "      <td>3</td>\n",
       "      <td>3</td>\n",
       "      <td>0.500000</td>\n",
       "      <td>0.011748</td>\n",
       "      <td>0.022393</td>\n",
       "      <td>0.524632</td>\n",
       "    </tr>\n",
       "    <tr>\n",
       "      <th>3</th>\n",
       "      <td>ohdsi_cumc_2021q1r2</td>\n",
       "      <td>11111</td>\n",
       "      <td>[PL 24134003] Neck pain cohort: First occurren...</td>\n",
       "      <td>24198</td>\n",
       "      <td>Contusion of esophagus</td>\n",
       "      <td>1</td>\n",
       "      <td>13397</td>\n",
       "      <td>0.000075</td>\n",
       "      <td>0</td>\n",
       "      <td>1</td>\n",
       "      <td>0.000000</td>\n",
       "      <td>0.000000</td>\n",
       "      <td>0.007464</td>\n",
       "      <td>0.000000</td>\n",
       "    </tr>\n",
       "    <tr>\n",
       "      <th>4</th>\n",
       "      <td>ohdsi_cumc_2021q1r2</td>\n",
       "      <td>11111</td>\n",
       "      <td>[PL 24134003] Neck pain cohort: First occurren...</td>\n",
       "      <td>24230</td>\n",
       "      <td>Foreign body in larynx</td>\n",
       "      <td>30</td>\n",
       "      <td>38933</td>\n",
       "      <td>0.000771</td>\n",
       "      <td>16</td>\n",
       "      <td>14</td>\n",
       "      <td>0.533333</td>\n",
       "      <td>0.062657</td>\n",
       "      <td>0.104501</td>\n",
       "      <td>0.599579</td>\n",
       "    </tr>\n",
       "  </tbody>\n",
       "</table>\n",
       "</div>"
      ],
      "text/plain": [
       "           source_name  cohort_definition_id  \\\n",
       "0  ohdsi_cumc_2021q1r2                 11111   \n",
       "1  ohdsi_cumc_2021q1r2                 11111   \n",
       "2  ohdsi_cumc_2021q1r2                 11111   \n",
       "3  ohdsi_cumc_2021q1r2                 11111   \n",
       "4  ohdsi_cumc_2021q1r2                 11111   \n",
       "\n",
       "                              cohort_definition_name  concept_id  \\\n",
       "0  [PL 24134003] Neck pain cohort: First occurren...       23731   \n",
       "1  [PL 24134003] Neck pain cohort: First occurren...       23806   \n",
       "2  [PL 24134003] Neck pain cohort: First occurren...       23808   \n",
       "3  [PL 24134003] Neck pain cohort: First occurren...       24198   \n",
       "4  [PL 24134003] Neck pain cohort: First occurren...       24230   \n",
       "\n",
       "                                        concept_name  num_persons_w_covariate  \\\n",
       "0                          Benign neoplasm of larynx                        6   \n",
       "1                          Atrophy of salivary gland                        2   \n",
       "2  Chronic peptic ulcer without hemorrhage, witho...                        6   \n",
       "3                             Contusion of esophagus                        1   \n",
       "4                             Foreign body in larynx                       30   \n",
       "\n",
       "   num_persons_total  pct_persons_w_covariate  num_females  num_males  \\\n",
       "0              38933                 0.000154            3          3   \n",
       "1              25536                 0.000078            2          0   \n",
       "2              38933                 0.000154            3          3   \n",
       "3              13397                 0.000075            0          1   \n",
       "4              38933                 0.000771           16         14   \n",
       "\n",
       "   pct_females  prev_females  prev_males  rr_female  \n",
       "0     0.500000      0.011748    0.022393   0.524632  \n",
       "1     1.000000      0.007832    0.000000   0.000000  \n",
       "2     0.500000      0.011748    0.022393   0.524632  \n",
       "3     0.000000      0.000000    0.007464   0.000000  \n",
       "4     0.533333      0.062657    0.104501   0.599579  "
      ]
     },
     "execution_count": 7,
     "metadata": {},
     "output_type": "execute_result"
    }
   ],
   "source": [
    "df.head()"
   ]
  },
  {
   "cell_type": "code",
   "execution_count": 8,
   "id": "opponent-transfer",
   "metadata": {},
   "outputs": [
    {
     "data": {
      "text/plain": [
       "10235"
      ]
     },
     "execution_count": 8,
     "metadata": {},
     "output_type": "execute_result"
    }
   ],
   "source": [
    "len(df)"
   ]
  },
  {
   "cell_type": "code",
   "execution_count": 9,
   "id": "undefined-action",
   "metadata": {},
   "outputs": [],
   "source": [
    "cnxn.close()"
   ]
  }
 ],
 "metadata": {
  "kernelspec": {
   "display_name": "Python 3",
   "language": "python",
   "name": "python3"
  },
  "language_info": {
   "codemirror_mode": {
    "name": "ipython",
    "version": 3
   },
   "file_extension": ".py",
   "mimetype": "text/x-python",
   "name": "python",
   "nbconvert_exporter": "python",
   "pygments_lexer": "ipython3",
   "version": "3.9.1"
  }
 },
 "nbformat": 4,
 "nbformat_minor": 5
}
