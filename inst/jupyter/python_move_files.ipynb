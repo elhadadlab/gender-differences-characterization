{
 "cells": [
  {
   "cell_type": "code",
   "execution_count": 11,
   "id": "missing-legend",
   "metadata": {},
   "outputs": [],
   "source": [
    "import pandas as pd\n",
    "import numpy as np\n",
    "import glob\n",
    "import sys\n",
    "import os"
   ]
  },
  {
   "cell_type": "code",
   "execution_count": 13,
   "id": "cutting-captain",
   "metadata": {},
   "outputs": [
    {
     "name": "stdout",
     "output_type": "stream",
     "text": [
      "Imported settings...\n",
      "Current path:  C:\\Users\\tonys\\Documents\\Research\\characterizationPaperPackage\\inst\\py\\\n"
     ]
    }
   ],
   "source": [
    "sys.path.append('C:\\\\Users\\\\tonys\\\\Documents\\\\Research\\\\characterizationPaperPackage\\\\inst\\\\py\\\\')\n",
    "from settings_sqlserver import *"
   ]
  },
  {
   "cell_type": "code",
   "execution_count": 14,
   "id": "annual-parker",
   "metadata": {},
   "outputs": [
    {
     "name": "stdout",
     "output_type": "stream",
     "text": [
      "Moving old summaries...\n"
     ]
    }
   ],
   "source": [
    "print('Moving old summaries...')\n",
    "\n",
    "# What cohorts to create\n",
    "cohort_files = pd.read_csv('../settings/CohortsToCreateFinal.csv')\n",
    "phenotypes   = pd.read_csv('../csv/phenotype_lookups_final.csv')"
   ]
  },
  {
   "cell_type": "code",
   "execution_count": 4,
   "id": "universal-james",
   "metadata": {},
   "outputs": [
    {
     "data": {
      "text/html": [
       "<div>\n",
       "<style scoped>\n",
       "    .dataframe tbody tr th:only-of-type {\n",
       "        vertical-align: middle;\n",
       "    }\n",
       "\n",
       "    .dataframe tbody tr th {\n",
       "        vertical-align: top;\n",
       "    }\n",
       "\n",
       "    .dataframe thead th {\n",
       "        text-align: right;\n",
       "    }\n",
       "</style>\n",
       "<table border=\"1\" class=\"dataframe\">\n",
       "  <thead>\n",
       "    <tr style=\"text-align: right;\">\n",
       "      <th></th>\n",
       "      <th>Cohort_ID</th>\n",
       "      <th>ATLAS_ID</th>\n",
       "      <th>HERA_ID</th>\n",
       "      <th>Label</th>\n",
       "      <th>Short</th>\n",
       "      <th>Category [WHO, from AAPC and ICD-10 grouping]</th>\n",
       "      <th>ICD-10</th>\n",
       "      <th>Acute or Chronic</th>\n",
       "      <th>Delay</th>\n",
       "      <th>Lookback</th>\n",
       "    </tr>\n",
       "  </thead>\n",
       "  <tbody>\n",
       "    <tr>\n",
       "      <th>0</th>\n",
       "      <td>11111</td>\n",
       "      <td>2563</td>\n",
       "      <td>24134003</td>\n",
       "      <td>Neck pain cohort: First occurrence of \"neck ...</td>\n",
       "      <td>Neck pain</td>\n",
       "      <td>Diseases of the musculoskeletal system and con...</td>\n",
       "      <td>M54.2</td>\n",
       "      <td>Chronic</td>\n",
       "      <td>NaN</td>\n",
       "      <td>3</td>\n",
       "    </tr>\n",
       "    <tr>\n",
       "      <th>1</th>\n",
       "      <td>11112</td>\n",
       "      <td>2564</td>\n",
       "      <td>24609003</td>\n",
       "      <td>Hypoglycemia disorder incident cohort: First...</td>\n",
       "      <td>Hypoglycemia</td>\n",
       "      <td>Endocrine, nutritional and metabolic diseases</td>\n",
       "      <td>E16.2</td>\n",
       "      <td>Chronic</td>\n",
       "      <td>?</td>\n",
       "      <td>3</td>\n",
       "    </tr>\n",
       "    <tr>\n",
       "      <th>2</th>\n",
       "      <td>11113</td>\n",
       "      <td>2565</td>\n",
       "      <td>31317003</td>\n",
       "      <td>Dysphagia incident cohort: First occurrence ...</td>\n",
       "      <td>Dysphagia</td>\n",
       "      <td>Symptoms, signs and abnormal clinical and labo...</td>\n",
       "      <td>R13</td>\n",
       "      <td>Chronic</td>\n",
       "      <td>NaN</td>\n",
       "      <td>3</td>\n",
       "    </tr>\n",
       "    <tr>\n",
       "      <th>3</th>\n",
       "      <td>11114</td>\n",
       "      <td>2566</td>\n",
       "      <td>31967003</td>\n",
       "      <td>Nausea Events All Events of referent concept...</td>\n",
       "      <td>Nausea</td>\n",
       "      <td>Symptoms, signs and abnormal clinical and labo...</td>\n",
       "      <td>R11.0</td>\n",
       "      <td>Chronic</td>\n",
       "      <td>NaN</td>\n",
       "      <td>3</td>\n",
       "    </tr>\n",
       "    <tr>\n",
       "      <th>4</th>\n",
       "      <td>11115</td>\n",
       "      <td>2567</td>\n",
       "      <td>75860003</td>\n",
       "      <td>Constipation Events: all occurrence of refer...</td>\n",
       "      <td>Constipation</td>\n",
       "      <td>Diseases of the digestive system</td>\n",
       "      <td>K59.0</td>\n",
       "      <td>Chronic</td>\n",
       "      <td>NaN</td>\n",
       "      <td>3</td>\n",
       "    </tr>\n",
       "  </tbody>\n",
       "</table>\n",
       "</div>"
      ],
      "text/plain": [
       "   Cohort_ID  ATLAS_ID   HERA_ID  \\\n",
       "0      11111      2563  24134003   \n",
       "1      11112      2564  24609003   \n",
       "2      11113      2565  31317003   \n",
       "3      11114      2566  31967003   \n",
       "4      11115      2567  75860003   \n",
       "\n",
       "                                               Label         Short  \\\n",
       "0    Neck pain cohort: First occurrence of \"neck ...     Neck pain   \n",
       "1    Hypoglycemia disorder incident cohort: First...  Hypoglycemia   \n",
       "2    Dysphagia incident cohort: First occurrence ...     Dysphagia   \n",
       "3    Nausea Events All Events of referent concept...        Nausea   \n",
       "4    Constipation Events: all occurrence of refer...  Constipation   \n",
       "\n",
       "       Category [WHO, from AAPC and ICD-10 grouping] ICD-10 Acute or Chronic  \\\n",
       "0  Diseases of the musculoskeletal system and con...  M54.2          Chronic   \n",
       "1      Endocrine, nutritional and metabolic diseases  E16.2          Chronic   \n",
       "2  Symptoms, signs and abnormal clinical and labo...    R13          Chronic   \n",
       "3  Symptoms, signs and abnormal clinical and labo...  R11.0          Chronic   \n",
       "4                   Diseases of the digestive system  K59.0          Chronic   \n",
       "\n",
       "  Delay  Lookback  \n",
       "0   NaN         3  \n",
       "1     ?         3  \n",
       "2   NaN         3  \n",
       "3   NaN         3  \n",
       "4   NaN         3  "
      ]
     },
     "execution_count": 4,
     "metadata": {},
     "output_type": "execute_result"
    }
   ],
   "source": [
    "phenotypes.head()"
   ]
  },
  {
   "cell_type": "code",
   "execution_count": 15,
   "id": "basic-avatar",
   "metadata": {},
   "outputs": [],
   "source": [
    "if not os.path.exists('../../output/OLD_summaries/' + db + '/'):\n",
    "    os.makedirs('../../output/OLD_summaries/' + db + '/')"
   ]
  },
  {
   "cell_type": "code",
   "execution_count": 21,
   "id": "married-lingerie",
   "metadata": {},
   "outputs": [],
   "source": [
    "for cohort_file_id in cohort_files.cohortId:\n",
    "#     if os.path.exists('../../output/OLD_summaries/' + db + '/' + str(cohort_file_id) + '_3yronly_summary.csv'):\n",
    "#         continue;\n",
    "    \n",
    "    if phenotypes[phenotypes.Cohort_ID == cohort_file_id].Lookback.values[0] == 1:\n",
    "        try:\n",
    "            os.rename('../../output/summaries/' + db + '/' + str(cohort_file_id) + '_summary.csv', '../../output/OLD_summaries/' + db + '/' + str(cohort_file_id) + '_3yronly_summary.csv')\n",
    "        except FileNotFoundError:\n",
    "            continue\n",
    "    elif phenotypes[phenotypes.Cohort_ID == cohort_file_id].Lookback.values[0] == 10:\n",
    "        try:\n",
    "            os.rename('../../output/summaries/' + db + '/' + str(cohort_file_id) + '_summary.csv', '../../output/OLD_summaries/' + db + '/' + str(cohort_file_id) + '_3yronly_summary.csv')\n",
    "        except FileNotFoundError:\n",
    "            continue"
   ]
  },
  {
   "cell_type": "code",
   "execution_count": null,
   "id": "premier-string",
   "metadata": {},
   "outputs": [],
   "source": []
  }
 ],
 "metadata": {
  "kernelspec": {
   "display_name": "Python 3",
   "language": "python",
   "name": "python3"
  },
  "language_info": {
   "codemirror_mode": {
    "name": "ipython",
    "version": 3
   },
   "file_extension": ".py",
   "mimetype": "text/x-python",
   "name": "python",
   "nbconvert_exporter": "python",
   "pygments_lexer": "ipython3",
   "version": "3.9.1"
  }
 },
 "nbformat": 4,
 "nbformat_minor": 5
}
